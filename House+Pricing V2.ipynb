{
 "cells": [
  {
   "cell_type": "code",
   "execution_count": null,
   "metadata": {
    "collapsed": true
   },
   "outputs": [],
   "source": [
    "#Data Loading."
   ]
  },
  {
   "cell_type": "code",
   "execution_count": 1,
   "metadata": {},
   "outputs": [
    {
     "data": {
      "text/plain": [
       "'/media/sf_codebase/kaggle/house'"
      ]
     },
     "execution_count": 1,
     "metadata": {},
     "output_type": "execute_result"
    }
   ],
   "source": [
    "import os\n",
    "os.getcwd()"
   ]
  },
  {
   "cell_type": "code",
   "execution_count": 23,
   "metadata": {},
   "outputs": [
    {
     "data": {
      "text/plain": [
       "False"
      ]
     },
     "execution_count": 23,
     "metadata": {},
     "output_type": "execute_result"
    }
   ],
   "source": [
    "import pandas as pd\n",
    "train=pd.read_csv(\"train_data.csv\")\n",
    "test=pd.read_csv(\"test.csv\")\n",
    "#Are columns are same, leavingout last Sale price columns.\n",
    "train.columns.tolist()==test.columns.tolist()"
   ]
  },
  {
   "cell_type": "code",
   "execution_count": 24,
   "metadata": {},
   "outputs": [
    {
     "data": {
      "text/plain": [
       "True"
      ]
     },
     "execution_count": 24,
     "metadata": {},
     "output_type": "execute_result"
    }
   ],
   "source": [
    "test['SalePrice']=\"\"\n",
    "train.columns.tolist()==test.columns.tolist()"
   ]
  },
  {
   "cell_type": "code",
   "execution_count": 25,
   "metadata": {},
   "outputs": [
    {
     "data": {
      "text/plain": [
       "(Index(['Id', 'MSSubClass', 'MSZoning', 'LotFrontage', 'LotArea', 'Street',\n",
       "        'Alley', 'LotShape', 'LandContour', 'Utilities', 'LotConfig',\n",
       "        'LandSlope', 'Neighborhood', 'Condition1', 'Condition2', 'BldgType',\n",
       "        'HouseStyle', 'OverallQual', 'OverallCond', 'YearBuilt', 'YearRemodAdd',\n",
       "        'RoofStyle', 'RoofMatl', 'Exterior1st', 'Exterior2nd', 'MasVnrType',\n",
       "        'MasVnrArea', 'ExterQual', 'ExterCond', 'Foundation', 'BsmtQual',\n",
       "        'BsmtCond', 'BsmtExposure', 'BsmtFinType1', 'BsmtFinSF1',\n",
       "        'BsmtFinType2', 'BsmtFinSF2', 'BsmtUnfSF', 'TotalBsmtSF', 'Heating',\n",
       "        'HeatingQC', 'CentralAir', 'Electrical', '1stFlrSF', '2ndFlrSF',\n",
       "        'LowQualFinSF', 'GrLivArea', 'BsmtFullBath', 'BsmtHalfBath', 'FullBath',\n",
       "        'HalfBath', 'BedroomAbvGr', 'KitchenAbvGr', 'KitchenQual',\n",
       "        'TotRmsAbvGrd', 'Functional', 'Fireplaces', 'FireplaceQu', 'GarageType',\n",
       "        'GarageYrBlt', 'GarageFinish', 'GarageCars', 'GarageArea', 'GarageQual',\n",
       "        'GarageCond', 'PavedDrive', 'WoodDeckSF', 'OpenPorchSF',\n",
       "        'EnclosedPorch', '3SsnPorch', 'ScreenPorch', 'PoolArea', 'PoolQC',\n",
       "        'Fence', 'MiscFeature', 'MiscVal', 'MoSold', 'YrSold', 'SaleType',\n",
       "        'SaleCondition', 'SalePrice'],\n",
       "       dtype='object'),\n",
       " Index(['Id', 'MSSubClass', 'MSZoning', 'LotFrontage', 'LotArea', 'Street',\n",
       "        'Alley', 'LotShape', 'LandContour', 'Utilities', 'LotConfig',\n",
       "        'LandSlope', 'Neighborhood', 'Condition1', 'Condition2', 'BldgType',\n",
       "        'HouseStyle', 'OverallQual', 'OverallCond', 'YearBuilt', 'YearRemodAdd',\n",
       "        'RoofStyle', 'RoofMatl', 'Exterior1st', 'Exterior2nd', 'MasVnrType',\n",
       "        'MasVnrArea', 'ExterQual', 'ExterCond', 'Foundation', 'BsmtQual',\n",
       "        'BsmtCond', 'BsmtExposure', 'BsmtFinType1', 'BsmtFinSF1',\n",
       "        'BsmtFinType2', 'BsmtFinSF2', 'BsmtUnfSF', 'TotalBsmtSF', 'Heating',\n",
       "        'HeatingQC', 'CentralAir', 'Electrical', '1stFlrSF', '2ndFlrSF',\n",
       "        'LowQualFinSF', 'GrLivArea', 'BsmtFullBath', 'BsmtHalfBath', 'FullBath',\n",
       "        'HalfBath', 'BedroomAbvGr', 'KitchenAbvGr', 'KitchenQual',\n",
       "        'TotRmsAbvGrd', 'Functional', 'Fireplaces', 'FireplaceQu', 'GarageType',\n",
       "        'GarageYrBlt', 'GarageFinish', 'GarageCars', 'GarageArea', 'GarageQual',\n",
       "        'GarageCond', 'PavedDrive', 'WoodDeckSF', 'OpenPorchSF',\n",
       "        'EnclosedPorch', '3SsnPorch', 'ScreenPorch', 'PoolArea', 'PoolQC',\n",
       "        'Fence', 'MiscFeature', 'MiscVal', 'MoSold', 'YrSold', 'SaleType',\n",
       "        'SaleCondition', 'SalePrice'],\n",
       "       dtype='object'))"
      ]
     },
     "execution_count": 25,
     "metadata": {},
     "output_type": "execute_result"
    }
   ],
   "source": [
    "train.columns,test.columns"
   ]
  },
  {
   "cell_type": "code",
   "execution_count": 26,
   "metadata": {
    "collapsed": true
   },
   "outputs": [],
   "source": [
    "combi=pd.concat([train,test],axis=0,ignore_index=True)"
   ]
  },
  {
   "cell_type": "code",
   "execution_count": 28,
   "metadata": {},
   "outputs": [
    {
     "data": {
      "text/plain": [
       "((1460, 81), (1459, 81), (2919, 81))"
      ]
     },
     "execution_count": 28,
     "metadata": {},
     "output_type": "execute_result"
    }
   ],
   "source": [
    "#Checking shapes.\n",
    "train.shape,test.shape,combi.shape"
   ]
  },
  {
   "cell_type": "markdown",
   "metadata": {},
   "source": [
    "# Pre Processing"
   ]
  },
  {
   "cell_type": "code",
   "execution_count": 27,
   "metadata": {},
   "outputs": [
    {
     "data": {
      "text/plain": [
       "Index(['Id', 'MSSubClass', 'MSZoning', 'LotFrontage', 'LotArea', 'Street',\n",
       "       'Alley', 'LotShape', 'LandContour', 'Utilities', 'LotConfig',\n",
       "       'LandSlope', 'Neighborhood', 'Condition1', 'Condition2', 'BldgType',\n",
       "       'HouseStyle', 'OverallQual', 'OverallCond', 'YearBuilt', 'YearRemodAdd',\n",
       "       'RoofStyle', 'RoofMatl', 'Exterior1st', 'Exterior2nd', 'MasVnrType',\n",
       "       'MasVnrArea', 'ExterQual', 'ExterCond', 'Foundation', 'BsmtQual',\n",
       "       'BsmtCond', 'BsmtExposure', 'BsmtFinType1', 'BsmtFinSF1',\n",
       "       'BsmtFinType2', 'BsmtFinSF2', 'BsmtUnfSF', 'TotalBsmtSF', 'Heating',\n",
       "       'HeatingQC', 'CentralAir', 'Electrical', '1stFlrSF', '2ndFlrSF',\n",
       "       'LowQualFinSF', 'GrLivArea', 'BsmtFullBath', 'BsmtHalfBath', 'FullBath',\n",
       "       'HalfBath', 'BedroomAbvGr', 'KitchenAbvGr', 'KitchenQual',\n",
       "       'TotRmsAbvGrd', 'Functional', 'Fireplaces', 'FireplaceQu', 'GarageType',\n",
       "       'GarageYrBlt', 'GarageFinish', 'GarageCars', 'GarageArea', 'GarageQual',\n",
       "       'GarageCond', 'PavedDrive', 'WoodDeckSF', 'OpenPorchSF',\n",
       "       'EnclosedPorch', '3SsnPorch', 'ScreenPorch', 'PoolArea', 'PoolQC',\n",
       "       'Fence', 'MiscFeature', 'MiscVal', 'MoSold', 'YrSold', 'SaleType',\n",
       "       'SaleCondition', 'SalePrice'],\n",
       "      dtype='object')"
      ]
     },
     "execution_count": 27,
     "metadata": {},
     "output_type": "execute_result"
    }
   ],
   "source": [
    "combi.columns"
   ]
  },
  {
   "cell_type": "markdown",
   "metadata": {},
   "source": [
    "Intution is Overall Condition, LotArea,TotRmsAbvGrd may be important features. Rest we will check later.\n",
    "\n",
    "Check following link to read about each features.\n",
    "\n",
    "https://github.com/meethariprasad/trikaal/blob/master/Competetions/Kaggle/house-prices-advanced-regression-techniques/Data%20-%20House%20Prices_%20Advanced%20Regression%20Techniques%20_%20Kaggle.txt"
   ]
  },
  {
   "cell_type": "code",
   "execution_count": 61,
   "metadata": {
    "collapsed": true
   },
   "outputs": [],
   "source": [
    "features=['OverallCond','LotArea','TotRmsAbvGrd']\n",
    "target='SalePrice'"
   ]
  },
  {
   "cell_type": "code",
   "execution_count": 60,
   "metadata": {},
   "outputs": [
    {
     "name": "stdout",
     "output_type": "stream",
     "text": [
      " Any nulls? False\n"
     ]
    }
   ],
   "source": [
    "# OverallCond: Rates the overall condition of the house\n",
    "\n",
    "#        10\tVery Excellent\n",
    "#        9\tExcellent\n",
    "#        8\tVery Good\n",
    "#        7\tGood\n",
    "#        6\tAbove Average\t\n",
    "#        5\tAverage\n",
    "#        4\tBelow Average\t\n",
    "#        3\tFair\n",
    "#        2\tPoor\n",
    "#        1\tVery Poor\n",
    "\t\t\n",
    "#We can leave as it is because it is Ordinal in nature. Still for the sake of one hot encoding demo, we will change it to \n",
    "#Categorical and have one hot encoding.\n",
    "\n",
    "#Let us check if there are any Null in column. If there any null following code results in True\n",
    "print (\" Any nulls?\",combi['OverallCond'].isnull().any().any())\n",
    "#No nulls\n",
    "\n",
    "#One hot encoding expects the data to be in allrows,1 shape.\n",
    "OverallCond=pd.get_dummies(combi['OverallCond'],prefix=\"OverallCond\")\n",
    "\n",
    "#or you can do following also\n",
    "\n",
    "# OverallCond=combi['OverallCond']\n",
    "# print (\"Shape of Overall Condition:\",OverallCond.shape)\n",
    "\n",
    "# #This step to avoid error which says shape is not matching.\n",
    "# import numpy as np\n",
    "# OverallCond=OverallCond.values.reshape(OverallCond.shape[0],1)\n",
    "\n",
    "# from sklearn.preprocessing import OneHotEncoder\n",
    "# OverallCond_OHE = OneHotEncoder(handle_unknown='ignore')\n",
    "# OverallCond_OHE.fit(OverallCond)\n",
    "# OverallCond_Array=OverallCond_OHE.transform(OverallCond).toarray()"
   ]
  },
  {
   "cell_type": "code",
   "execution_count": 64,
   "metadata": {},
   "outputs": [
    {
     "name": "stdout",
     "output_type": "stream",
     "text": [
      "Shape of Overall Condition: (2919,)\n"
     ]
    },
    {
     "name": "stderr",
     "output_type": "stream",
     "text": [
      "/opt/microsoft/mlserver/9.3.0/runtime/python/lib/python3.5/site-packages/sklearn/utils/validation.py:595: DataConversionWarning: Data with input dtype int64 was converted to float64 by StandardScaler.\n",
      "  warnings.warn(msg, DataConversionWarning)\n",
      "/opt/microsoft/mlserver/9.3.0/runtime/python/lib/python3.5/site-packages/sklearn/utils/validation.py:595: DataConversionWarning: Data with input dtype int64 was converted to float64 by StandardScaler.\n",
      "  warnings.warn(msg, DataConversionWarning)\n"
     ]
    },
    {
     "data": {
      "text/html": [
       "<div>\n",
       "<table border=\"1\" class=\"dataframe\">\n",
       "  <thead>\n",
       "    <tr style=\"text-align: right;\">\n",
       "      <th></th>\n",
       "      <th>LotArea</th>\n",
       "    </tr>\n",
       "  </thead>\n",
       "  <tbody>\n",
       "    <tr>\n",
       "      <th>0</th>\n",
       "      <td>-0.217879</td>\n",
       "    </tr>\n",
       "    <tr>\n",
       "      <th>1</th>\n",
       "      <td>-0.072044</td>\n",
       "    </tr>\n",
       "  </tbody>\n",
       "</table>\n",
       "</div>"
      ],
      "text/plain": [
       "    LotArea\n",
       "0 -0.217879\n",
       "1 -0.072044"
      ]
     },
     "execution_count": 64,
     "metadata": {},
     "output_type": "execute_result"
    }
   ],
   "source": [
    "#LotArea: Lot size in square feet\n",
    "#https://scikit-learn.org/stable/modules/generated/sklearn.preprocessing.StandardScaler.html#sklearn.preprocessing.StandardScaler\n",
    "\n",
    "#LotArea: Lot size in square feet\n",
    "LotArea=combi['LotArea']\n",
    "print (\"Shape of Overall Condition:\",LotArea.shape)\n",
    "\n",
    "import numpy as np\n",
    "LotArea=LotArea.values.reshape(LotArea.shape[0],1)\n",
    "\n",
    "from sklearn.preprocessing import StandardScaler\n",
    "LotArea_normal = StandardScaler()\n",
    "LotArea_normal.fit(LotArea)\n",
    "LotArea_Normal_Array=LotArea_normal.transform(LotArea)\n",
    "LotArea_Normal_Frame=pd.DataFrame(LotArea_Normal_Array)\n",
    "LotArea_Normal_Frame.columns=['LotArea']\n",
    "LotArea_Normal_Frame.head(2)"
   ]
  },
  {
   "cell_type": "code",
   "execution_count": 71,
   "metadata": {},
   "outputs": [],
   "source": [
    "feature_column_names=OverallCond.columns.tolist()\n",
    "feature_column_names.append('LotArea')\n",
    "feature_column_names.append('TotRmsAbvGrd')\n",
    "feature_column_names.append('SalePrice')\n",
    "\n",
    "combi_transformed=pd.concat([OverallCond,LotArea_Normal_Frame,combi[['TotRmsAbvGrd','SalePrice']]],axis=1,ignore_index=True)\n",
    "\n",
    "combi_transformed.columns=feature_column_names"
   ]
  },
  {
   "cell_type": "code",
   "execution_count": 77,
   "metadata": {},
   "outputs": [
    {
     "data": {
      "text/plain": [
       "((1460, 12), (1459, 12), (1460, 81), (1459, 81))"
      ]
     },
     "execution_count": 77,
     "metadata": {},
     "output_type": "execute_result"
    }
   ],
   "source": [
    "train_lastrow=train.shape[0]\n",
    "test_lastrow=combi_transformed.shape[0]\n",
    "Train_Transformed=combi_transformed[0:train_lastrow]\n",
    "Test_Transformed=combi_transformed[train_lastrow:test_lastrow]\n",
    "Train_Transformed.shape,Test_Transformed.shape,train.shape,test.shape"
   ]
  },
  {
   "cell_type": "markdown",
   "metadata": {},
   "source": [
    "# Split Train and Test"
   ]
  },
  {
   "cell_type": "code",
   "execution_count": 78,
   "metadata": {
    "collapsed": true
   },
   "outputs": [],
   "source": [
    "Y_Train_Transformed=Train_Transformed['SalePrice']\n",
    "features=Train_Transformed.columns.tolist()\n",
    "features.remove('SalePrice')\n",
    "X_Train_Transformed=Train_Transformed[features]"
   ]
  },
  {
   "cell_type": "code",
   "execution_count": 79,
   "metadata": {
    "collapsed": true
   },
   "outputs": [],
   "source": [
    "\n",
    "from sklearn.model_selection import train_test_split\n",
    "X_Train_train, X_Train_test, Y_Train_train, Y_Train_test = train_test_split( X_Train_Transformed, Y_Train_Transformed, test_size=0.25, random_state=7)"
   ]
  },
  {
   "cell_type": "markdown",
   "metadata": {},
   "source": [
    "# Modeling"
   ]
  },
  {
   "cell_type": "code",
   "execution_count": 143,
   "metadata": {},
   "outputs": [
    {
     "data": {
      "text/plain": [
       "LinearRegression(copy_X=True, fit_intercept=True, n_jobs=None,\n",
       "         normalize=False)"
      ]
     },
     "execution_count": 143,
     "metadata": {},
     "output_type": "execute_result"
    }
   ],
   "source": [
    "from sklearn import linear_model\n",
    "model = linear_model.LinearRegression()\n",
    "model.fit(X_Train_train, Y_Train_train)"
   ]
  },
  {
   "cell_type": "code",
   "execution_count": 145,
   "metadata": {},
   "outputs": [
    {
     "name": "stdout",
     "output_type": "stream",
     "text": [
      "Mean absolute error: 40712.61\n",
      "Residual sum of squares (MSE): 3526077762.57\n",
      "R2-score: 0.42\n",
      "RMSE-score: 59380.78613967329\n"
     ]
    }
   ],
   "source": [
    "# Training Evaluation\n",
    "\n",
    "from sklearn.metrics import r2_score\n",
    "from sklearn.metrics import mean_squared_error\n",
    "from math import sqrt\n",
    "\n",
    "train_predictions = model.predict(X_Train_train)\n",
    "\n",
    "print(\"Mean absolute error: %.2f\" % np.mean(np.absolute(train_predictions - Y_Train_train)))\n",
    "print(\"Residual sum of squares (MSE): %.2f\" % np.mean((Y_Train_train - train_predictions) ** 2))\n",
    "print(\"R2-score: %.2f\" % r2_score(Y_Train_train,train_predictions) )\n",
    "\n",
    "from sklearn.metrics import mean_squared_error\n",
    "from math import sqrt\n",
    "rmse = sqrt(mean_squared_error(Y_Train_train,train_predictions))\n",
    "print(\"RMSE-score Train:\",rmse)"
   ]
  },
  {
   "cell_type": "code",
   "execution_count": 147,
   "metadata": {},
   "outputs": [
    {
     "name": "stdout",
     "output_type": "stream",
     "text": [
      "Mean absolute error: 46684.57\n",
      "Residual sum of squares (MSE): 4691552004.79\n",
      "R2-score: 0.33\n",
      "RMSE-score Test: 68494.9049549602\n"
     ]
    }
   ],
   "source": [
    "# Testing Evaluation\n",
    "from sklearn.metrics import r2_score\n",
    "from sklearn.metrics import mean_squared_error\n",
    "from math import sqrt\n",
    "\n",
    "test_predictions = model.predict(X_Train_test)\n",
    "\n",
    "print(\"Mean absolute error: %.2f\" % np.mean(np.absolute(test_predictions - Y_Train_test)))\n",
    "print(\"Residual sum of squares (MSE): %.2f\" % np.mean((test_predictions - Y_Train_test) ** 2))\n",
    "print(\"R2-score: %.2f\" % r2_score(Y_Train_test,test_predictions) )\n",
    "\n",
    "from sklearn.metrics import mean_squared_error\n",
    "from math import sqrt\n",
    "rmse = sqrt(mean_squared_error(Y_Train_test,test_predictions))\n",
    "print(\"RMSE-score Test:\",rmse)"
   ]
  },
  {
   "cell_type": "markdown",
   "metadata": {},
   "source": [
    "# Cross Validation"
   ]
  },
  {
   "cell_type": "code",
   "execution_count": 108,
   "metadata": {},
   "outputs": [
    {
     "data": {
      "text/plain": [
       "array([0.43263607, 0.18780749, 0.42685831, 0.36380548, 0.36280013])"
      ]
     },
     "execution_count": 108,
     "metadata": {},
     "output_type": "execute_result"
    }
   ],
   "source": [
    "from sklearn.model_selection import cross_val_score\n",
    "rsquare_scores = cross_val_score(model, X_Train_train, Y_Train_train, cv=5,scoring='r2')\n",
    "rsquare_scores"
   ]
  },
  {
   "cell_type": "markdown",
   "metadata": {},
   "source": [
    "# Submission"
   ]
  },
  {
   "cell_type": "code",
   "execution_count": null,
   "metadata": {
    "collapsed": true
   },
   "outputs": [],
   "source": [
    "features\n",
    "X_Test_pred = model.predict(Test_Transformed[features])\n",
    "predicted_submission=pd.DataFrame([test['Id'].tolist(),X_Test_pred.tolist()]).T\n",
    "predicted_submission.columns=['Id','SalePrice']\n",
    "predicted_submission['Id']=predicted_submission['Id'].astype('int')\n",
    "predicted_submission['SalePrice']=predicted_submission['SalePrice'].astype('int')\n",
    "predicted_submission.to_csv(\"HousePrice_Submission_Version1.csv\", index=False)"
   ]
  },
  {
   "cell_type": "markdown",
   "metadata": {},
   "source": [
    "# H2o Package"
   ]
  },
  {
   "cell_type": "code",
   "execution_count": null,
   "metadata": {
    "collapsed": true
   },
   "outputs": [],
   "source": [
    "#Run if h2o is not installed !pip install h2o"
   ]
  },
  {
   "cell_type": "code",
   "execution_count": 115,
   "metadata": {},
   "outputs": [
    {
     "name": "stdout",
     "output_type": "stream",
     "text": [
      "Checking whether there is an H2O instance running at http://localhost:54321. connected.\n"
     ]
    },
    {
     "data": {
      "text/html": [
       "<div style=\"overflow:auto\"><table style=\"width:50%\"><tr><td>H2O cluster uptime:</td>\n",
       "<td>39 secs</td></tr>\n",
       "<tr><td>H2O cluster timezone:</td>\n",
       "<td>Asia/Kolkata</td></tr>\n",
       "<tr><td>H2O data parsing timezone:</td>\n",
       "<td>UTC</td></tr>\n",
       "<tr><td>H2O cluster version:</td>\n",
       "<td>3.22.0.3</td></tr>\n",
       "<tr><td>H2O cluster version age:</td>\n",
       "<td>19 days </td></tr>\n",
       "<tr><td>H2O cluster name:</td>\n",
       "<td>H2O_from_python_data123_va8abg</td></tr>\n",
       "<tr><td>H2O cluster total nodes:</td>\n",
       "<td>1</td></tr>\n",
       "<tr><td>H2O cluster free memory:</td>\n",
       "<td>915 Mb</td></tr>\n",
       "<tr><td>H2O cluster total cores:</td>\n",
       "<td>3</td></tr>\n",
       "<tr><td>H2O cluster allowed cores:</td>\n",
       "<td>3</td></tr>\n",
       "<tr><td>H2O cluster status:</td>\n",
       "<td>locked, healthy</td></tr>\n",
       "<tr><td>H2O connection url:</td>\n",
       "<td>http://localhost:54321</td></tr>\n",
       "<tr><td>H2O connection proxy:</td>\n",
       "<td>None</td></tr>\n",
       "<tr><td>H2O internal security:</td>\n",
       "<td>False</td></tr>\n",
       "<tr><td>H2O API Extensions:</td>\n",
       "<td>AutoML, XGBoost, Algos, Core V3, Core V4</td></tr>\n",
       "<tr><td>Python version:</td>\n",
       "<td>3.5.2 final</td></tr></table></div>"
      ],
      "text/plain": [
       "--------------------------  ----------------------------------------\n",
       "H2O cluster uptime:         39 secs\n",
       "H2O cluster timezone:       Asia/Kolkata\n",
       "H2O data parsing timezone:  UTC\n",
       "H2O cluster version:        3.22.0.3\n",
       "H2O cluster version age:    19 days\n",
       "H2O cluster name:           H2O_from_python_data123_va8abg\n",
       "H2O cluster total nodes:    1\n",
       "H2O cluster free memory:    915 Mb\n",
       "H2O cluster total cores:    3\n",
       "H2O cluster allowed cores:  3\n",
       "H2O cluster status:         locked, healthy\n",
       "H2O connection url:         http://localhost:54321\n",
       "H2O connection proxy:\n",
       "H2O internal security:      False\n",
       "H2O API Extensions:         AutoML, XGBoost, Algos, Core V3, Core V4\n",
       "Python version:             3.5.2 final\n",
       "--------------------------  ----------------------------------------"
      ]
     },
     "metadata": {},
     "output_type": "display_data"
    }
   ],
   "source": [
    "import h2o\n",
    "h2o.init()"
   ]
  },
  {
   "cell_type": "code",
   "execution_count": 151,
   "metadata": {},
   "outputs": [
    {
     "data": {
      "text/plain": [
       "Index(['OverallCond_1', 'OverallCond_2', 'OverallCond_3', 'OverallCond_4',\n",
       "       'OverallCond_5', 'OverallCond_6', 'OverallCond_7', 'OverallCond_8',\n",
       "       'OverallCond_9', 'LotArea', 'TotRmsAbvGrd', 'SalePrice'],\n",
       "      dtype='object')"
      ]
     },
     "execution_count": 151,
     "metadata": {},
     "output_type": "execute_result"
    }
   ],
   "source": [
    "Train_Transformed.columns"
   ]
  },
  {
   "cell_type": "code",
   "execution_count": 159,
   "metadata": {},
   "outputs": [
    {
     "name": "stdout",
     "output_type": "stream",
     "text": [
      "Parse progress: |█████████████████████████████████████████████████████████| 100%\n"
     ]
    },
    {
     "data": {
      "text/plain": [
       "{'LotArea': 'real',\n",
       " 'OverallCond_1': 'int',\n",
       " 'OverallCond_2': 'int',\n",
       " 'OverallCond_3': 'int',\n",
       " 'OverallCond_4': 'int',\n",
       " 'OverallCond_5': 'int',\n",
       " 'OverallCond_6': 'int',\n",
       " 'OverallCond_7': 'int',\n",
       " 'OverallCond_8': 'int',\n",
       " 'OverallCond_9': 'int',\n",
       " 'SalePrice': 'int',\n",
       " 'TotRmsAbvGrd': 'int'}"
      ]
     },
     "execution_count": 159,
     "metadata": {},
     "output_type": "execute_result"
    }
   ],
   "source": [
    "Train_H2o=h2o.H2OFrame(Train_Transformed)\n",
    "Train_H2o.types"
   ]
  },
  {
   "cell_type": "code",
   "execution_count": 154,
   "metadata": {},
   "outputs": [
    {
     "name": "stdout",
     "output_type": "stream",
     "text": [
      "gbm Model Build progress: |███████████████████████████████████████████████| 100%\n"
     ]
    }
   ],
   "source": [
    "from h2o.estimators.gbm import H2OGradientBoostingEstimator\n",
    "model_h2o = H2OGradientBoostingEstimator(nfolds=5)\n",
    "model_h2o.train(x=features, y = target, training_frame=Train_H2o)"
   ]
  },
  {
   "cell_type": "code",
   "execution_count": 156,
   "metadata": {},
   "outputs": [
    {
     "name": "stdout",
     "output_type": "stream",
     "text": [
      "\n",
      "ModelMetricsRegression: gbm\n",
      "** Reported on cross-validation data. **\n",
      "\n",
      "MSE: 3425573059.2813916\n",
      "RMSE: 58528.3953246746\n",
      "MAE: 39383.14850776757\n",
      "RMSLE: 0.2883765453201678\n",
      "Mean Residual Deviance: 3425573059.2813916\n"
     ]
    },
    {
     "data": {
      "text/plain": []
     },
     "execution_count": 156,
     "metadata": {},
     "output_type": "execute_result"
    }
   ],
   "source": [
    "#Cross Validation\n",
    "model_h2o.model_performance(xval=True)"
   ]
  },
  {
   "cell_type": "code",
   "execution_count": 181,
   "metadata": {},
   "outputs": [
    {
     "name": "stdout",
     "output_type": "stream",
     "text": [
      "Parse progress: |█████████████████████████████████████████████████████████| 100%\n",
      "gbm prediction progress: |████████████████████████████████████████████████| 100%\n"
     ]
    }
   ],
   "source": [
    "#Load Test Frame\n",
    "Test_h2o=h2o.H2OFrame(Test_Transformed[features])\n",
    "\n",
    "#Predict Test Frame.\n",
    "predictions=model_h2o.predict(Test_h2o).as_data_frame()['predict']"
   ]
  },
  {
   "cell_type": "code",
   "execution_count": 174,
   "metadata": {},
   "outputs": [],
   "source": [
    "predicted_submission=pd.DataFrame([test['Id'].tolist(),predictions.tolist()]).T\n",
    "predicted_submission.columns=['Id','SalePrice']\n",
    "predicted_submission['Id']=predicted_submission['Id'].astype('int')\n",
    "predicted_submission['SalePrice']=predicted_submission['SalePrice'].astype('int')\n",
    "predicted_submission.to_csv(\"HousePrice_Submission_Version1.csv\", index=False)"
   ]
  },
  {
   "cell_type": "markdown",
   "metadata": {},
   "source": [
    "## Analysis: \n",
    "\n",
    "Test R Squared Error increased almost double. This may be because we are not using enough features rather than the problem with pre processing."
   ]
  }
 ],
 "metadata": {
  "kernelspec": {
   "display_name": "Python [conda env:python]",
   "language": "python",
   "name": "conda-env-python-py"
  },
  "language_info": {
   "codemirror_mode": {
    "name": "ipython",
    "version": 3
   },
   "file_extension": ".py",
   "mimetype": "text/x-python",
   "name": "python",
   "nbconvert_exporter": "python",
   "pygments_lexer": "ipython3",
   "version": "3.5.2"
  }
 },
 "nbformat": 4,
 "nbformat_minor": 1
}
