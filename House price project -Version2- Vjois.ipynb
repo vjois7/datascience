{
 "cells": [
  {
   "cell_type": "markdown",
   "metadata": {},
   "source": [
    "## House price project Version 2"
   ]
  },
  {
   "cell_type": "code",
   "execution_count": 378,
   "metadata": {},
   "outputs": [],
   "source": [
    "# Business understanding\n",
    "# Problem statement: To predict the sales price for each house"
   ]
  },
  {
   "cell_type": "markdown",
   "metadata": {},
   "source": [
    "# Data understanding\n",
    "#Data contains 81 columns. that means there are 80 factors which decides the price of house.\n",
    "#From general understanding, important features which effects the price of house could be:\n",
    "    1. MSSubClass: The building class\n",
    "    2. LotArea: Lot size in square feet\n",
    "    3. Neighborhood: Physical locations within Ames city limits\n",
    "    4. Condition1: Proximity to main road or railroad\n",
    "    5. Condition2: Proximity to main road or railroad (if a second is present)\n",
    "    6. OverallQual: Overall material and finish quality\n",
    "    7. OverallCond: Overall condition rating\n",
    "    8. YearBuilt: Original construction date\n",
    "    9. HouseStyle: Style of dwelling\n",
    "    10.TotalBsmtSF: Total square feet of basement area\n",
    "    11. Bedroom: Number of bedrooms above basement level\n",
    "    12. Functional: Home functionality rating\n",
    "    13. GarageType: Garage location\n",
    "    14. OpenPorchSF: Open porch area in square feet"
   ]
  },
  {
   "cell_type": "markdown",
   "metadata": {},
   "source": [
    "# Data loading\n"
   ]
  },
  {
   "cell_type": "code",
   "execution_count": 379,
   "metadata": {},
   "outputs": [
    {
     "data": {
      "text/plain": [
       "'D:\\\\Data science - vidya\\\\kaggle -house price - linear regression/train.csv'"
      ]
     },
     "execution_count": 379,
     "metadata": {},
     "output_type": "execute_result"
    }
   ],
   "source": [
    "import os\n",
    "data_location= \"D:\\Data science - vidya\\kaggle -house price - linear regression\"\n",
    "Train_file_location = data_location + '/train.csv'\n",
    "Train_file_location"
   ]
  },
  {
   "cell_type": "code",
   "execution_count": 380,
   "metadata": {},
   "outputs": [],
   "source": [
    "# let me read the train and test file\n",
    "import pandas as pd\n"
   ]
  },
  {
   "cell_type": "code",
   "execution_count": 381,
   "metadata": {},
   "outputs": [],
   "source": [
    "Main_Tr = pd.read_csv(Train_file_location)"
   ]
  },
  {
   "cell_type": "code",
   "execution_count": 382,
   "metadata": {},
   "outputs": [],
   "source": [
    "test_file='test.csv'\n",
    "import pandas as pd\n",
    "Main_te = pd.read_csv(test_file)"
   ]
  },
  {
   "cell_type": "code",
   "execution_count": 383,
   "metadata": {},
   "outputs": [
    {
     "data": {
      "text/plain": [
       "((1460, 81), (1459, 80))"
      ]
     },
     "execution_count": 383,
     "metadata": {},
     "output_type": "execute_result"
    }
   ],
   "source": [
    "Main_Tr.shape,Main_te.shape"
   ]
  },
  {
   "cell_type": "code",
   "execution_count": 384,
   "metadata": {},
   "outputs": [],
   "source": [
    "# looking at the data i can dropout the following columns\n",
    "# Alley - Few entry, MSZoning, Street, LandContou, Utilities, PoolArea, PoolQC, Fence, MiscFeature, MiscFeature, MiscVal\n",
    "#RoofMatl, Exterior1st, Exterior2nd and so on. \n",
    "\n"
   ]
  },
  {
   "cell_type": "code",
   "execution_count": 385,
   "metadata": {},
   "outputs": [],
   "source": [
    "Trainset = Main_Tr[['MSSubClass', 'LotArea', 'Neighborhood', 'Condition1','Condition2','OverallQual','OverallCond', 'YearBuilt','HouseStyle','BedroomAbvGr',\n",
    "       'Functional','OpenPorchSF', 'SalePrice']]\n",
    "Testset = Main_te[['MSSubClass', 'LotArea', 'Neighborhood', 'Condition1','Condition2','OverallQual','OverallCond', 'YearBuilt','HouseStyle','BedroomAbvGr',\n",
    "       'Functional','OpenPorchSF',]]"
   ]
  },
  {
   "cell_type": "code",
   "execution_count": 386,
   "metadata": {},
   "outputs": [
    {
     "data": {
      "text/plain": [
       "((1460, 13), (1459, 12))"
      ]
     },
     "execution_count": 386,
     "metadata": {},
     "output_type": "execute_result"
    }
   ],
   "source": [
    "Trainset.shape, Testset.shape"
   ]
  },
  {
   "cell_type": "code",
   "execution_count": 387,
   "metadata": {},
   "outputs": [
    {
     "data": {
      "text/plain": [
       "(Index(['MSSubClass', 'LotArea', 'Neighborhood', 'Condition1', 'Condition2',\n",
       "        'OverallQual', 'OverallCond', 'YearBuilt', 'HouseStyle', 'BedroomAbvGr',\n",
       "        'Functional', 'OpenPorchSF', 'SalePrice'],\n",
       "       dtype='object'),\n",
       " Index(['MSSubClass', 'LotArea', 'Neighborhood', 'Condition1', 'Condition2',\n",
       "        'OverallQual', 'OverallCond', 'YearBuilt', 'HouseStyle', 'BedroomAbvGr',\n",
       "        'Functional', 'OpenPorchSF', 'SalePrice'],\n",
       "       dtype='object'))"
      ]
     },
     "execution_count": 387,
     "metadata": {},
     "output_type": "execute_result"
    }
   ],
   "source": [
    "Trainset.columns, Test.columns"
   ]
  },
  {
   "cell_type": "code",
   "execution_count": 388,
   "metadata": {},
   "outputs": [],
   "source": [
    "import pandas as pd"
   ]
  },
  {
   "cell_type": "code",
   "execution_count": 389,
   "metadata": {},
   "outputs": [
    {
     "name": "stderr",
     "output_type": "stream",
     "text": [
      "D:\\ProgramData\\Anaconda3\\lib\\site-packages\\ipykernel_launcher.py:1: SettingWithCopyWarning: \n",
      "A value is trying to be set on a copy of a slice from a DataFrame.\n",
      "Try using .loc[row_indexer,col_indexer] = value instead\n",
      "\n",
      "See the caveats in the documentation: http://pandas.pydata.org/pandas-docs/stable/indexing.html#indexing-view-versus-copy\n",
      "  \"\"\"Entry point for launching an IPython kernel.\n"
     ]
    }
   ],
   "source": [
    "Testset['SalePrice']=None"
   ]
  },
  {
   "cell_type": "code",
   "execution_count": 390,
   "metadata": {},
   "outputs": [
    {
     "data": {
      "text/plain": [
       "((1460, 13), (1459, 13))"
      ]
     },
     "execution_count": 390,
     "metadata": {},
     "output_type": "execute_result"
    }
   ],
   "source": [
    "Trainset.shape, Testset.shape"
   ]
  },
  {
   "cell_type": "code",
   "execution_count": 391,
   "metadata": {},
   "outputs": [],
   "source": [
    "combined_features=pd.concat([Trainset,Testset],axis=0,ignore_index=True)"
   ]
  },
  {
   "cell_type": "code",
   "execution_count": 392,
   "metadata": {},
   "outputs": [
    {
     "data": {
      "text/plain": [
       "(2919, 13)"
      ]
     },
     "execution_count": 392,
     "metadata": {},
     "output_type": "execute_result"
    }
   ],
   "source": [
    "combined_features.shape"
   ]
  },
  {
   "cell_type": "markdown",
   "metadata": {},
   "source": [
    "# Data Exploration"
   ]
  },
  {
   "cell_type": "code",
   "execution_count": 393,
   "metadata": {},
   "outputs": [
    {
     "data": {
      "text/html": [
       "<div>\n",
       "<style scoped>\n",
       "    .dataframe tbody tr th:only-of-type {\n",
       "        vertical-align: middle;\n",
       "    }\n",
       "\n",
       "    .dataframe tbody tr th {\n",
       "        vertical-align: top;\n",
       "    }\n",
       "\n",
       "    .dataframe thead th {\n",
       "        text-align: right;\n",
       "    }\n",
       "</style>\n",
       "<table border=\"1\" class=\"dataframe\">\n",
       "  <thead>\n",
       "    <tr style=\"text-align: right;\">\n",
       "      <th></th>\n",
       "      <th>MSSubClass</th>\n",
       "      <th>LotArea</th>\n",
       "      <th>OverallQual</th>\n",
       "      <th>OverallCond</th>\n",
       "      <th>YearBuilt</th>\n",
       "      <th>BedroomAbvGr</th>\n",
       "      <th>OpenPorchSF</th>\n",
       "    </tr>\n",
       "  </thead>\n",
       "  <tbody>\n",
       "    <tr>\n",
       "      <th>count</th>\n",
       "      <td>2919.000000</td>\n",
       "      <td>2919.000000</td>\n",
       "      <td>2919.000000</td>\n",
       "      <td>2919.000000</td>\n",
       "      <td>2919.000000</td>\n",
       "      <td>2919.000000</td>\n",
       "      <td>2919.000000</td>\n",
       "    </tr>\n",
       "    <tr>\n",
       "      <th>mean</th>\n",
       "      <td>57.137718</td>\n",
       "      <td>10168.114080</td>\n",
       "      <td>6.089072</td>\n",
       "      <td>5.564577</td>\n",
       "      <td>1971.312778</td>\n",
       "      <td>2.860226</td>\n",
       "      <td>47.486811</td>\n",
       "    </tr>\n",
       "    <tr>\n",
       "      <th>std</th>\n",
       "      <td>42.517628</td>\n",
       "      <td>7886.996359</td>\n",
       "      <td>1.409947</td>\n",
       "      <td>1.113131</td>\n",
       "      <td>30.291442</td>\n",
       "      <td>0.822693</td>\n",
       "      <td>67.575493</td>\n",
       "    </tr>\n",
       "    <tr>\n",
       "      <th>min</th>\n",
       "      <td>20.000000</td>\n",
       "      <td>1300.000000</td>\n",
       "      <td>1.000000</td>\n",
       "      <td>1.000000</td>\n",
       "      <td>1872.000000</td>\n",
       "      <td>0.000000</td>\n",
       "      <td>0.000000</td>\n",
       "    </tr>\n",
       "    <tr>\n",
       "      <th>25%</th>\n",
       "      <td>20.000000</td>\n",
       "      <td>7478.000000</td>\n",
       "      <td>5.000000</td>\n",
       "      <td>5.000000</td>\n",
       "      <td>1953.500000</td>\n",
       "      <td>2.000000</td>\n",
       "      <td>0.000000</td>\n",
       "    </tr>\n",
       "    <tr>\n",
       "      <th>50%</th>\n",
       "      <td>50.000000</td>\n",
       "      <td>9453.000000</td>\n",
       "      <td>6.000000</td>\n",
       "      <td>5.000000</td>\n",
       "      <td>1973.000000</td>\n",
       "      <td>3.000000</td>\n",
       "      <td>26.000000</td>\n",
       "    </tr>\n",
       "    <tr>\n",
       "      <th>75%</th>\n",
       "      <td>70.000000</td>\n",
       "      <td>11570.000000</td>\n",
       "      <td>7.000000</td>\n",
       "      <td>6.000000</td>\n",
       "      <td>2001.000000</td>\n",
       "      <td>3.000000</td>\n",
       "      <td>70.000000</td>\n",
       "    </tr>\n",
       "    <tr>\n",
       "      <th>max</th>\n",
       "      <td>190.000000</td>\n",
       "      <td>215245.000000</td>\n",
       "      <td>10.000000</td>\n",
       "      <td>9.000000</td>\n",
       "      <td>2010.000000</td>\n",
       "      <td>8.000000</td>\n",
       "      <td>742.000000</td>\n",
       "    </tr>\n",
       "  </tbody>\n",
       "</table>\n",
       "</div>"
      ],
      "text/plain": [
       "        MSSubClass        LotArea  OverallQual  OverallCond    YearBuilt  \\\n",
       "count  2919.000000    2919.000000  2919.000000  2919.000000  2919.000000   \n",
       "mean     57.137718   10168.114080     6.089072     5.564577  1971.312778   \n",
       "std      42.517628    7886.996359     1.409947     1.113131    30.291442   \n",
       "min      20.000000    1300.000000     1.000000     1.000000  1872.000000   \n",
       "25%      20.000000    7478.000000     5.000000     5.000000  1953.500000   \n",
       "50%      50.000000    9453.000000     6.000000     5.000000  1973.000000   \n",
       "75%      70.000000   11570.000000     7.000000     6.000000  2001.000000   \n",
       "max     190.000000  215245.000000    10.000000     9.000000  2010.000000   \n",
       "\n",
       "       BedroomAbvGr  OpenPorchSF  \n",
       "count   2919.000000  2919.000000  \n",
       "mean       2.860226    47.486811  \n",
       "std        0.822693    67.575493  \n",
       "min        0.000000     0.000000  \n",
       "25%        2.000000     0.000000  \n",
       "50%        3.000000    26.000000  \n",
       "75%        3.000000    70.000000  \n",
       "max        8.000000   742.000000  "
      ]
     },
     "execution_count": 393,
     "metadata": {},
     "output_type": "execute_result"
    }
   ],
   "source": [
    "combined_features.describe()"
   ]
  },
  {
   "cell_type": "code",
   "execution_count": 394,
   "metadata": {},
   "outputs": [],
   "source": [
    "import matplotlib.pyplot as plt\n",
    "import pylab as pl"
   ]
  },
  {
   "cell_type": "markdown",
   "metadata": {},
   "source": [
    "# Pre-Processing"
   ]
  },
  {
   "cell_type": "code",
   "execution_count": 396,
   "metadata": {},
   "outputs": [],
   "source": [
    "# I have to encode the columns having Nan and strings like categorical values"
   ]
  },
  {
   "cell_type": "code",
   "execution_count": 398,
   "metadata": {},
   "outputs": [
    {
     "data": {
      "text/plain": [
       "<bound method Series.any of MSSubClass      False\n",
       "LotArea         False\n",
       "Neighborhood    False\n",
       "Condition1      False\n",
       "Condition2      False\n",
       "OverallQual     False\n",
       "OverallCond     False\n",
       "YearBuilt       False\n",
       "HouseStyle      False\n",
       "BedroomAbvGr    False\n",
       "Functional      False\n",
       "OpenPorchSF     False\n",
       "SalePrice       False\n",
       "dtype: bool>"
      ]
     },
     "execution_count": 398,
     "metadata": {},
     "output_type": "execute_result"
    }
   ],
   "source": [
    "Trainset.isnull().any().any"
   ]
  },
  {
   "cell_type": "code",
   "execution_count": 399,
   "metadata": {},
   "outputs": [
    {
     "data": {
      "text/plain": [
       "<bound method Series.any of MSSubClass      False\n",
       "LotArea         False\n",
       "Neighborhood    False\n",
       "Condition1      False\n",
       "Condition2      False\n",
       "OverallQual     False\n",
       "OverallCond     False\n",
       "YearBuilt       False\n",
       "HouseStyle      False\n",
       "BedroomAbvGr    False\n",
       "Functional       True\n",
       "OpenPorchSF     False\n",
       "SalePrice        True\n",
       "dtype: bool>"
      ]
     },
     "execution_count": 399,
     "metadata": {},
     "output_type": "execute_result"
    }
   ],
   "source": [
    "Testset.isnull().any().any"
   ]
  },
  {
   "cell_type": "code",
   "execution_count": 441,
   "metadata": {},
   "outputs": [
    {
     "data": {
      "text/plain": [
       "<bound method Series.any of MSSubClass      False\n",
       "LotArea         False\n",
       "Neighborhood    False\n",
       "Condition1      False\n",
       "Condition2      False\n",
       "OverallQual     False\n",
       "OverallCond     False\n",
       "YearBuilt       False\n",
       "HouseStyle      False\n",
       "BedroomAbvGr    False\n",
       "Functional       True\n",
       "OpenPorchSF     False\n",
       "SalePrice        True\n",
       "dtype: bool>"
      ]
     },
     "execution_count": 441,
     "metadata": {},
     "output_type": "execute_result"
    }
   ],
   "source": [
    "combined_features.isnull().any().any"
   ]
  },
  {
   "cell_type": "code",
   "execution_count": 454,
   "metadata": {},
   "outputs": [],
   "source": [
    "df=combined_features"
   ]
  },
  {
   "cell_type": "code",
   "execution_count": 459,
   "metadata": {},
   "outputs": [
    {
     "data": {
      "text/plain": [
       "array([4, 0, 1, 3, 2], dtype=int64)"
      ]
     },
     "execution_count": 459,
     "metadata": {},
     "output_type": "execute_result"
    }
   ],
   "source": [
    "from sklearn import preprocessing\n",
    "Feature_le = preprocessing.LabelEncoder()\n",
    "Feature_le.fit(['Neighborhood','Condition1','Condition2','HouseStyle','Functional'])\n",
    "feature_encod = Feature_le.transform(['Neighborhood','Condition1','Condition2','HouseStyle','Functional'])\n",
    "feature_encod"
   ]
  },
  {
   "cell_type": "code",
   "execution_count": 456,
   "metadata": {},
   "outputs": [
    {
     "data": {
      "text/html": [
       "<div>\n",
       "<style scoped>\n",
       "    .dataframe tbody tr th:only-of-type {\n",
       "        vertical-align: middle;\n",
       "    }\n",
       "\n",
       "    .dataframe tbody tr th {\n",
       "        vertical-align: top;\n",
       "    }\n",
       "\n",
       "    .dataframe thead th {\n",
       "        text-align: right;\n",
       "    }\n",
       "</style>\n",
       "<table border=\"1\" class=\"dataframe\">\n",
       "  <thead>\n",
       "    <tr style=\"text-align: right;\">\n",
       "      <th></th>\n",
       "      <th>0</th>\n",
       "    </tr>\n",
       "  </thead>\n",
       "  <tbody>\n",
       "    <tr>\n",
       "      <th>0</th>\n",
       "      <td>Neighborhood</td>\n",
       "    </tr>\n",
       "    <tr>\n",
       "      <th>1</th>\n",
       "      <td>Condition1</td>\n",
       "    </tr>\n",
       "    <tr>\n",
       "      <th>2</th>\n",
       "      <td>Condition2</td>\n",
       "    </tr>\n",
       "    <tr>\n",
       "      <th>3</th>\n",
       "      <td>HouseStyle</td>\n",
       "    </tr>\n",
       "    <tr>\n",
       "      <th>4</th>\n",
       "      <td>Functional</td>\n",
       "    </tr>\n",
       "  </tbody>\n",
       "</table>\n",
       "</div>"
      ],
      "text/plain": [
       "              0\n",
       "0  Neighborhood\n",
       "1    Condition1\n",
       "2    Condition2\n",
       "3    HouseStyle\n",
       "4    Functional"
      ]
     },
     "execution_count": 456,
     "metadata": {},
     "output_type": "execute_result"
    }
   ],
   "source": [
    "Feature_le"
   ]
  },
  {
   "cell_type": "code",
   "execution_count": 457,
   "metadata": {},
   "outputs": [
    {
     "data": {
      "text/html": [
       "<div>\n",
       "<style scoped>\n",
       "    .dataframe tbody tr th:only-of-type {\n",
       "        vertical-align: middle;\n",
       "    }\n",
       "\n",
       "    .dataframe tbody tr th {\n",
       "        vertical-align: top;\n",
       "    }\n",
       "\n",
       "    .dataframe thead th {\n",
       "        text-align: right;\n",
       "    }\n",
       "</style>\n",
       "<table border=\"1\" class=\"dataframe\">\n",
       "  <thead>\n",
       "    <tr style=\"text-align: right;\">\n",
       "      <th></th>\n",
       "      <th>MSSubClass</th>\n",
       "      <th>LotArea</th>\n",
       "      <th>Neighborhood</th>\n",
       "      <th>Condition1</th>\n",
       "      <th>Condition2</th>\n",
       "      <th>OverallQual</th>\n",
       "      <th>OverallCond</th>\n",
       "      <th>YearBuilt</th>\n",
       "      <th>HouseStyle</th>\n",
       "      <th>BedroomAbvGr</th>\n",
       "      <th>Functional</th>\n",
       "      <th>OpenPorchSF</th>\n",
       "      <th>SalePrice</th>\n",
       "    </tr>\n",
       "  </thead>\n",
       "  <tbody>\n",
       "    <tr>\n",
       "      <th>0</th>\n",
       "      <td>60</td>\n",
       "      <td>8450</td>\n",
       "      <td>CollgCr</td>\n",
       "      <td>Norm</td>\n",
       "      <td>Norm</td>\n",
       "      <td>7</td>\n",
       "      <td>5</td>\n",
       "      <td>2003</td>\n",
       "      <td>2Story</td>\n",
       "      <td>3</td>\n",
       "      <td>Typ</td>\n",
       "      <td>61</td>\n",
       "      <td>208500</td>\n",
       "    </tr>\n",
       "    <tr>\n",
       "      <th>1</th>\n",
       "      <td>20</td>\n",
       "      <td>9600</td>\n",
       "      <td>Veenker</td>\n",
       "      <td>Feedr</td>\n",
       "      <td>Norm</td>\n",
       "      <td>6</td>\n",
       "      <td>8</td>\n",
       "      <td>1976</td>\n",
       "      <td>1Story</td>\n",
       "      <td>3</td>\n",
       "      <td>Typ</td>\n",
       "      <td>0</td>\n",
       "      <td>181500</td>\n",
       "    </tr>\n",
       "    <tr>\n",
       "      <th>2</th>\n",
       "      <td>60</td>\n",
       "      <td>11250</td>\n",
       "      <td>CollgCr</td>\n",
       "      <td>Norm</td>\n",
       "      <td>Norm</td>\n",
       "      <td>7</td>\n",
       "      <td>5</td>\n",
       "      <td>2001</td>\n",
       "      <td>2Story</td>\n",
       "      <td>3</td>\n",
       "      <td>Typ</td>\n",
       "      <td>42</td>\n",
       "      <td>223500</td>\n",
       "    </tr>\n",
       "    <tr>\n",
       "      <th>3</th>\n",
       "      <td>70</td>\n",
       "      <td>9550</td>\n",
       "      <td>Crawfor</td>\n",
       "      <td>Norm</td>\n",
       "      <td>Norm</td>\n",
       "      <td>7</td>\n",
       "      <td>5</td>\n",
       "      <td>1915</td>\n",
       "      <td>2Story</td>\n",
       "      <td>3</td>\n",
       "      <td>Typ</td>\n",
       "      <td>35</td>\n",
       "      <td>140000</td>\n",
       "    </tr>\n",
       "    <tr>\n",
       "      <th>4</th>\n",
       "      <td>60</td>\n",
       "      <td>14260</td>\n",
       "      <td>NoRidge</td>\n",
       "      <td>Norm</td>\n",
       "      <td>Norm</td>\n",
       "      <td>8</td>\n",
       "      <td>5</td>\n",
       "      <td>2000</td>\n",
       "      <td>2Story</td>\n",
       "      <td>4</td>\n",
       "      <td>Typ</td>\n",
       "      <td>84</td>\n",
       "      <td>250000</td>\n",
       "    </tr>\n",
       "  </tbody>\n",
       "</table>\n",
       "</div>"
      ],
      "text/plain": [
       "   MSSubClass  LotArea Neighborhood Condition1 Condition2  OverallQual  \\\n",
       "0          60     8450      CollgCr       Norm       Norm            7   \n",
       "1          20     9600      Veenker      Feedr       Norm            6   \n",
       "2          60    11250      CollgCr       Norm       Norm            7   \n",
       "3          70     9550      Crawfor       Norm       Norm            7   \n",
       "4          60    14260      NoRidge       Norm       Norm            8   \n",
       "\n",
       "   OverallCond  YearBuilt HouseStyle  BedroomAbvGr Functional  OpenPorchSF  \\\n",
       "0            5       2003     2Story             3        Typ           61   \n",
       "1            8       1976     1Story             3        Typ            0   \n",
       "2            5       2001     2Story             3        Typ           42   \n",
       "3            5       1915     2Story             3        Typ           35   \n",
       "4            5       2000     2Story             4        Typ           84   \n",
       "\n",
       "  SalePrice  \n",
       "0    208500  \n",
       "1    181500  \n",
       "2    223500  \n",
       "3    140000  \n",
       "4    250000  "
      ]
     },
     "execution_count": 457,
     "metadata": {},
     "output_type": "execute_result"
    }
   ],
   "source": [
    "combined_features.head()"
   ]
  },
  {
   "cell_type": "markdown",
   "metadata": {},
   "source": [
    "# Train/Test data set"
   ]
  },
  {
   "cell_type": "code",
   "execution_count": null,
   "metadata": {},
   "outputs": [],
   "source": [
    "Y_Train_Transformed=Train_Transformed['SalePrice']\n",
    "features=X_Train.columns.tolist()\n",
    "X_Train_Transformed=Train_Transformed[features]"
   ]
  },
  {
   "cell_type": "code",
   "execution_count": null,
   "metadata": {},
   "outputs": [],
   "source": [
    "# model 1 : considering lotarea as independent variable\n",
    "from sklearn.model_selection import train_test_split\n",
    "import numpy as np"
   ]
  },
  {
   "cell_type": "code",
   "execution_count": null,
   "metadata": {},
   "outputs": [],
   "source": [
    "X_Train_train, X_Train_test, Y_Train_train, Y_Train_test = train_test_split( X_Train_Transformed, Y_Train_Transformed, test_size=0.25, random_state=7)\n"
   ]
  },
  {
   "cell_type": "markdown",
   "metadata": {},
   "source": [
    "#  linear rigression model\n"
   ]
  },
  {
   "cell_type": "markdown",
   "metadata": {},
   "source": [
    "# Modelling"
   ]
  },
  {
   "cell_type": "code",
   "execution_count": null,
   "metadata": {},
   "outputs": [],
   "source": [
    "from sklearn import linear_model\n"
   ]
  },
  {
   "cell_type": "code",
   "execution_count": null,
   "metadata": {},
   "outputs": [],
   "source": [
    "regr = linear_model.LinearRegression()\n",
    "\n",
    "X_Train_Transformed_Final = X_Train_train[['MSSubClass','LotArea','OverallQual','OverallCond','YearBuilt','BedroomAbvGr','OpenPorchSF']]\n",
    "regr.fit (X_Train_Transformed_Final, Y_Train_train)\n",
    "# The coefficients\n",
    "print ('Coefficients: ', regr.coef_)\n",
    "print ('Intercept: ',regr.intercept_)"
   ]
  },
  {
   "cell_type": "code",
   "execution_count": null,
   "metadata": {},
   "outputs": [],
   "source": [
    "X_Train_transformed_Final = X_Train_train[['MSSubClass','LotArea','OverallQual','OverallCond','YearBuilt','BedroomAbvGr','OpenPorchSF']]\n",
    "Y_Train_pred = regr.predict(X_Train_transformed_Final)\n",
    "\n",
    "print(\"Mean absolute error: %.2f\" % np.mean(np.absolute(Y_Train_pred - Y_Train_train)))\n",
    "print(\"Residual sum of squares (MSE): %.2f\" % np.mean((Y_Train_train - Y_Train_pred) ** 2))\n",
    "print(\"R2-score: %.2f\" % r2_score(Y_Train_pred , Y_Train_train) )"
   ]
  },
  {
   "cell_type": "code",
   "execution_count": null,
   "metadata": {},
   "outputs": [],
   "source": [
    "from sklearn.metrics import mean_squared_error\n",
    "from math import sqrt\n",
    "rmse = sqrt(mean_squared_error(Y_Train_train, Y_Train_pred))\n",
    "rmse"
   ]
  },
  {
   "cell_type": "code",
   "execution_count": null,
   "metadata": {},
   "outputs": [],
   "source": [
    "Y_Train_train.shape"
   ]
  },
  {
   "cell_type": "code",
   "execution_count": null,
   "metadata": {},
   "outputs": [],
   "source": [
    "Y_Train_pred.shape"
   ]
  },
  {
   "cell_type": "code",
   "execution_count": null,
   "metadata": {},
   "outputs": [],
   "source": [
    "from sklearn.metrics import r2_score\n",
    "from sklearn.metrics import mean_squared_error\n",
    "from math import sqrt\n",
    "X_Train_test_Final = X_Train_test[['MSSubClass','LotArea','OverallQual','OverallCond','YearBuilt','BedroomAbvGr','OpenPorchSF']]\n",
    "Y_Test_pred = regr.predict(X_Train_test_Final)\n",
    "\n",
    "print(\"Mean absolute error: %.2f\" % np.mean(np.absolute(Y_Test_pred - Y_Train_test)))\n",
    "print(\"Residual sum of squares (MSE): %.2f\" % np.mean((Y_Train_test - Y_Test_pred) ** 2))\n",
    "print(\"R2-score: %.2f\" % r2_score(Y_Test_pred , Y_Train_test) )"
   ]
  },
  {
   "cell_type": "code",
   "execution_count": null,
   "metadata": {},
   "outputs": [],
   "source": [
    "from sklearn.metrics import mean_squared_error\n",
    "from math import sqrt\n",
    "rmse = sqrt(mean_squared_error(Y_Train_test, Y_Train_pred))\n",
    "rmse"
   ]
  },
  {
   "cell_type": "markdown",
   "metadata": {},
   "source": [
    "# Evaluation"
   ]
  },
  {
   "cell_type": "code",
   "execution_count": null,
   "metadata": {},
   "outputs": [],
   "source": [
    "X_Test_Final = X_Test[['MSSubClass','LotArea','OverallQual','OverallCond','YearBuilt','BedroomAbvGr','OpenPorchSF']]\n",
    "X_Test_pred = regr.predict(X_Test_Final)\n",
    "\n",
    "X_Test_pred"
   ]
  },
  {
   "cell_type": "code",
   "execution_count": null,
   "metadata": {},
   "outputs": [],
   "source": [
    "predicted_submission=pd.DataFrame([test_data['Id'].tolist(),X_Test_pred.tolist()]).T\n",
    "predicted_submission.columns=['Id','SalePrice']"
   ]
  },
  {
   "cell_type": "code",
   "execution_count": null,
   "metadata": {},
   "outputs": [],
   "source": [
    "predicted_submission['Id']=predicted_submission['Id'].astype('int')\n",
    "predicted_submission['SalePrice']=predicted_submission['SalePrice'].astype('int')"
   ]
  },
  {
   "cell_type": "code",
   "execution_count": null,
   "metadata": {},
   "outputs": [],
   "source": [
    "predicted_submission.to_csv(\"HousePrice_Submission_Version1.csv\", index=False)"
   ]
  },
  {
   "cell_type": "code",
   "execution_count": null,
   "metadata": {},
   "outputs": [],
   "source": [
    "os.getcwd()"
   ]
  },
  {
   "cell_type": "code",
   "execution_count": null,
   "metadata": {},
   "outputs": [],
   "source": []
  }
 ],
 "metadata": {
  "kernelspec": {
   "display_name": "Python 3",
   "language": "python",
   "name": "python3"
  },
  "language_info": {
   "codemirror_mode": {
    "name": "ipython",
    "version": 3
   },
   "file_extension": ".py",
   "mimetype": "text/x-python",
   "name": "python",
   "nbconvert_exporter": "python",
   "pygments_lexer": "ipython3",
   "version": "3.7.1"
  }
 },
 "nbformat": 4,
 "nbformat_minor": 2
}
